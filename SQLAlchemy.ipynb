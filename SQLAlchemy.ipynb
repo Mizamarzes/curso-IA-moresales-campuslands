{
 "cells": [
  {
   "cell_type": "markdown",
   "metadata": {},
   "source": [
    "# SQLAlchemy"
   ]
  },
  {
   "cell_type": "markdown",
   "metadata": {},
   "source": [
    "## Instlando paquetes"
   ]
  },
  {
   "cell_type": "code",
   "execution_count": 1,
   "metadata": {},
   "outputs": [
    {
     "name": "stdout",
     "output_type": "stream",
     "text": [
      "Requirement already satisfied: SQLAlchemy in ./.venv/lib/python3.10/site-packages (2.0.36)\n",
      "Requirement already satisfied: greenlet!=0.4.17 in ./.venv/lib/python3.10/site-packages (from SQLAlchemy) (3.1.1)\n",
      "Requirement already satisfied: typing-extensions>=4.6.0 in ./.venv/lib/python3.10/site-packages (from SQLAlchemy) (4.12.2)\n",
      "Note: you may need to restart the kernel to use updated packages.\n"
     ]
    }
   ],
   "source": [
    "pip install SQLAlchemy"
   ]
  },
  {
   "cell_type": "markdown",
   "metadata": {},
   "source": [
    "## Importacion dee paquete necesarios"
   ]
  },
  {
   "cell_type": "code",
   "execution_count": 1,
   "metadata": {},
   "outputs": [],
   "source": [
    "from sqlalchemy import create_engine, Column, Integer, String, ForeignKey, DateTime\n",
    "from sqlalchemy.orm import sessionmaker, relationship, declarative_base\n",
    "from datetime import datetime\n"
   ]
  },
  {
   "cell_type": "markdown",
   "metadata": {},
   "source": [
    "# Configuracion basica"
   ]
  },
  {
   "cell_type": "code",
   "execution_count": 2,
   "metadata": {},
   "outputs": [],
   "source": [
    "# 1. CONFIGURACIÓN\n",
    "# Crear la clase base para los modelos\n",
    "Base = declarative_base()\n",
    "\n",
    "# Crear el motor de la base de datos\n",
    "# sqlite:///tareas.db -> Crea un archivo tareas.db en el directorio actual\n",
    "# echo=True -> Muestra las consultas SQL en la consola (útil para debugging)\n",
    "engine = create_engine('sqlite:///tareas.db', echo=True)\n"
   ]
  },
  {
   "cell_type": "markdown",
   "metadata": {},
   "source": [
    "## Definicion de modelos"
   ]
  },
  {
   "cell_type": "code",
   "execution_count": 3,
   "metadata": {},
   "outputs": [],
   "source": [
    "# 2. DEFINICIÓN DE MODELOS\n",
    "class Usuario(Base):\n",
    "    \"\"\"Modelo para la tabla de usuarios\"\"\"\n",
    "    __tablename__ = 'usuarios'  # Nombre de la tabla en la base de datos\n",
    "    \n",
    "    # Definición de columnas\n",
    "    id = Column(Integer, primary_key=True)  # Identificador único\n",
    "    nombre = Column(String(50), nullable=False)  # Nombre del usuario, no puede ser nulo\n",
    "    email = Column(String(50), unique=True, nullable=False)  # Email único del usuario\n",
    "    \n",
    "    # Relación uno a muchos con la tabla Tareas\n",
    "    # back_populates permite acceder a las tareas desde el usuario\n",
    "    tareas = relationship(\"Tarea\", back_populates=\"usuario\")\n",
    "\n",
    "    def __repr__(self):\n",
    "        \"\"\"Representación en string del objeto Usuario\"\"\"\n",
    "        return f\"<Usuario(nombre='{self.nombre}', email='{self.email}')>\""
   ]
  },
  {
   "cell_type": "code",
   "execution_count": 4,
   "metadata": {},
   "outputs": [],
   "source": [
    "class Tarea(Base):\n",
    "    \"\"\"Modelo para la tabla de tareas\"\"\"\n",
    "    __tablename__ = 'tareas'\n",
    "    \n",
    "    # Definición de columnas\n",
    "    id = Column(Integer, primary_key=True)\n",
    "    titulo = Column(String(100), nullable=False)\n",
    "    descripcion = Column(String(200))\n",
    "    fecha_creacion = Column(DateTime, default=datetime.utcnow)  # Fecha automática al crear\n",
    "    \n",
    "    # Clave foránea que relaciona con la tabla usuarios\n",
    "    usuario_id = Column(Integer, ForeignKey('usuarios.id'))\n",
    "    \n",
    "    # Relación muchos a uno con la tabla Usuarios\n",
    "    usuario = relationship(\"Usuario\", back_populates=\"tareas\")\n",
    "\n",
    "    def __repr__(self):\n",
    "        \"\"\"Representación en string del objeto Tarea\"\"\"\n",
    "        return f\"<Tarea(titulo='{self.titulo}', usuario_id={self.usuario_id})>\"\n"
   ]
  },
  {
   "cell_type": "markdown",
   "metadata": {},
   "source": [
    "## Crear las tablas definidas en el modelo"
   ]
  },
  {
   "cell_type": "code",
   "execution_count": 5,
   "metadata": {},
   "outputs": [
    {
     "name": "stdout",
     "output_type": "stream",
     "text": [
      "2024-12-13 15:06:31,393 INFO sqlalchemy.engine.Engine BEGIN (implicit)\n",
      "2024-12-13 15:06:31,395 INFO sqlalchemy.engine.Engine PRAGMA main.table_info(\"usuarios\")\n",
      "2024-12-13 15:06:31,397 INFO sqlalchemy.engine.Engine [raw sql] ()\n",
      "2024-12-13 15:06:31,399 INFO sqlalchemy.engine.Engine PRAGMA main.table_info(\"tareas\")\n",
      "2024-12-13 15:06:31,400 INFO sqlalchemy.engine.Engine [raw sql] ()\n",
      "2024-12-13 15:06:31,403 INFO sqlalchemy.engine.Engine COMMIT\n"
     ]
    }
   ],
   "source": [
    "# Crear todas las tablas en la base de datos\n",
    "Base.metadata.create_all(engine)"
   ]
  },
  {
   "cell_type": "markdown",
   "metadata": {},
   "source": [
    "## Sessions"
   ]
  },
  {
   "cell_type": "code",
   "execution_count": 6,
   "metadata": {},
   "outputs": [],
   "source": [
    "# Crear una fábrica de sesiones y una sesión\n",
    "Session = sessionmaker(bind=engine)\n",
    "session = Session()"
   ]
  },
  {
   "cell_type": "markdown",
   "metadata": {},
   "source": [
    "## Metodos CRUD"
   ]
  },
  {
   "cell_type": "code",
   "execution_count": 11,
   "metadata": {},
   "outputs": [],
   "source": [
    "usuario_test = Usuario(nombre='Juan', email='ja@gmail.com')"
   ]
  },
  {
   "cell_type": "code",
   "execution_count": 16,
   "metadata": {},
   "outputs": [
    {
     "data": {
      "text/plain": [
       "<Usuario(nombre='pedro', email='ja@gmail.com')>"
      ]
     },
     "execution_count": 16,
     "metadata": {},
     "output_type": "execute_result"
    }
   ],
   "source": [
    "usuario_test"
   ]
  },
  {
   "cell_type": "code",
   "execution_count": 7,
   "metadata": {},
   "outputs": [],
   "source": [
    "def crear_usuario(nombre, email):\n",
    "    \"\"\"\n",
    "    Crea un nuevo usuario en la base de datos.\n",
    "    Args:\n",
    "        nombre (str): Nombre del usuario\n",
    "        email (str): Email del usuario\n",
    "    Returns:\n",
    "        Usuario: Objeto usuario creado\n",
    "    \"\"\"\n",
    "    usuario = Usuario(nombre=nombre, email=email)\n",
    "    session.add(usuario)  # Agregar a la sesión\n",
    "    session.commit()  # Guardar cambios en la base de datos\n",
    "    return usuario\n",
    "\n",
    "def crear_tarea(titulo, descripcion, usuario_id):\n",
    "    \"\"\"\n",
    "    Crea una nueva tarea para un usuario específico.\n",
    "    Args:\n",
    "        titulo (str): Título de la tarea\n",
    "        descripcion (str): Descripción detallada de la tarea\n",
    "        usuario_id (int): ID del usuario al que se asigna la tarea\n",
    "    Returns:\n",
    "        Tarea: Objeto tarea creado\n",
    "    \"\"\"\n",
    "    tarea = Tarea(titulo=titulo, descripcion=descripcion, usuario_id=usuario_id)\n",
    "    session.add(tarea)\n",
    "    session.commit()\n",
    "    return tarea\n",
    "\n",
    "def obtener_usuarios():\n",
    "    \"\"\"\n",
    "    Obtiene todos los usuarios de la base de datos.\n",
    "    Returns:\n",
    "        list: Lista de objetos Usuario\n",
    "    \"\"\"\n",
    "    return session.query(Usuario).all()\n",
    "\n",
    "def obtener_tareas():\n",
    "    \"\"\"\n",
    "    Obtiene todas las tareas de la base de datos.\n",
    "    Returns:\n",
    "        list: Lista de objetos Tarea\n",
    "    \"\"\"\n",
    "    return session.query(Tarea).all()\n",
    "\n",
    "def obtener_tareas_usuario(usuario_id):\n",
    "    \"\"\"\n",
    "    Obtiene todas las tareas de un usuario específico.\n",
    "    Args:\n",
    "        usuario_id (int): ID del usuario\n",
    "    Returns:\n",
    "        list: Lista de tareas del usuario\n",
    "    \"\"\"\n",
    "    return session.query(Tarea).filter_by(usuario_id=usuario_id).all()\n",
    "\n",
    "def actualizar_tarea(tarea_id, nuevo_titulo=None, nueva_descripcion=None):\n",
    "    \"\"\"\n",
    "    Actualiza una tarea existente.\n",
    "    Args:\n",
    "        tarea_id (int): ID de la tarea a actualizar\n",
    "        nuevo_titulo (str, opcional): Nuevo título para la tarea\n",
    "        nueva_descripcion (str, opcional): Nueva descripción para la tarea\n",
    "    Returns:\n",
    "        Tarea: Objeto tarea actualizado\n",
    "    \"\"\"\n",
    "    tarea = session.query(Tarea).filter_by(id=tarea_id).first()\n",
    "    if tarea:\n",
    "        if nuevo_titulo:\n",
    "            tarea.titulo = nuevo_titulo\n",
    "        if nueva_descripcion:\n",
    "            tarea.descripcion = nueva_descripcion\n",
    "        session.commit()\n",
    "    return tarea\n",
    "\n",
    "def eliminar_tarea(tarea_id):\n",
    "    \"\"\"\n",
    "    Elimina una tarea de la base de datos.\n",
    "    Args:\n",
    "        tarea_id (int): ID de la tarea a eliminar\n",
    "    Returns:\n",
    "        bool: True si se eliminó correctamente, False si no se encontró la tarea\n",
    "    \"\"\"\n",
    "    tarea = session.query(Tarea).filter_by(id=tarea_id).first()\n",
    "    if tarea:\n",
    "        session.delete(tarea)\n",
    "        session.commit()\n",
    "        return True\n",
    "    return False"
   ]
  },
  {
   "cell_type": "code",
   "execution_count": 8,
   "metadata": {},
   "outputs": [
    {
     "name": "stdout",
     "output_type": "stream",
     "text": [
      "2024-12-13 15:06:40,382 INFO sqlalchemy.engine.Engine BEGIN (implicit)\n",
      "2024-12-13 15:06:40,386 INFO sqlalchemy.engine.Engine INSERT INTO usuarios (nombre, email) VALUES (?, ?)\n",
      "2024-12-13 15:06:40,389 INFO sqlalchemy.engine.Engine [generated in 0.00293s] ('dannkol', 'dannkol@gmail.com')\n",
      "2024-12-13 15:06:40,392 INFO sqlalchemy.engine.Engine COMMIT\n",
      "2024-12-13 15:06:40,405 INFO sqlalchemy.engine.Engine BEGIN (implicit)\n",
      "2024-12-13 15:06:40,408 INFO sqlalchemy.engine.Engine SELECT usuarios.id AS usuarios_id, usuarios.nombre AS usuarios_nombre, usuarios.email AS usuarios_email \n",
      "FROM usuarios \n",
      "WHERE usuarios.id = ?\n",
      "2024-12-13 15:06:40,409 INFO sqlalchemy.engine.Engine [generated in 0.00108s] (1,)\n"
     ]
    },
    {
     "data": {
      "text/plain": [
       "<Usuario(nombre='dannkol', email='dannkol@gmail.com')>"
      ]
     },
     "execution_count": 8,
     "metadata": {},
     "output_type": "execute_result"
    }
   ],
   "source": [
    "crear_usuario(nombre='dannkol', email='dannkol@gmail.com')"
   ]
  },
  {
   "cell_type": "code",
   "execution_count": 9,
   "metadata": {},
   "outputs": [
    {
     "name": "stdout",
     "output_type": "stream",
     "text": [
      "2024-12-13 15:06:44,420 INFO sqlalchemy.engine.Engine SELECT usuarios.id AS usuarios_id, usuarios.nombre AS usuarios_nombre, usuarios.email AS usuarios_email \n",
      "FROM usuarios\n",
      "2024-12-13 15:06:44,422 INFO sqlalchemy.engine.Engine [generated in 0.00265s] ()\n"
     ]
    }
   ],
   "source": [
    "user = obtener_usuarios()"
   ]
  },
  {
   "cell_type": "code",
   "execution_count": 10,
   "metadata": {},
   "outputs": [
    {
     "data": {
      "text/plain": [
       "[<Usuario(nombre='dannkol', email='dannkol@gmail.com')>]"
      ]
     },
     "execution_count": 10,
     "metadata": {},
     "output_type": "execute_result"
    }
   ],
   "source": [
    "user"
   ]
  },
  {
   "cell_type": "code",
   "execution_count": 11,
   "metadata": {},
   "outputs": [
    {
     "data": {
      "text/plain": [
       "'dannkol'"
      ]
     },
     "execution_count": 11,
     "metadata": {},
     "output_type": "execute_result"
    }
   ],
   "source": [
    "user[0].nombre"
   ]
  },
  {
   "cell_type": "code",
   "execution_count": 12,
   "metadata": {},
   "outputs": [],
   "source": [
    "user[0].nombre = ' luis'"
   ]
  },
  {
   "cell_type": "code",
   "execution_count": 13,
   "metadata": {},
   "outputs": [
    {
     "data": {
      "text/plain": [
       "[<Usuario(nombre=' luis', email='dannkol@gmail.com')>]"
      ]
     },
     "execution_count": 13,
     "metadata": {},
     "output_type": "execute_result"
    }
   ],
   "source": [
    "user"
   ]
  },
  {
   "cell_type": "code",
   "execution_count": 14,
   "metadata": {},
   "outputs": [
    {
     "name": "stdout",
     "output_type": "stream",
     "text": [
      "2024-12-13 15:08:32,406 INFO sqlalchemy.engine.Engine UPDATE usuarios SET nombre=? WHERE usuarios.id = ?\n",
      "2024-12-13 15:08:32,408 INFO sqlalchemy.engine.Engine [generated in 0.00322s] (' luis', 1)\n",
      "2024-12-13 15:08:32,411 INFO sqlalchemy.engine.Engine COMMIT\n"
     ]
    }
   ],
   "source": [
    "session.commit()"
   ]
  },
  {
   "cell_type": "code",
   "execution_count": 15,
   "metadata": {},
   "outputs": [
    {
     "name": "stdout",
     "output_type": "stream",
     "text": [
      "2024-12-13 15:08:47,056 INFO sqlalchemy.engine.Engine BEGIN (implicit)\n",
      "2024-12-13 15:08:47,058 INFO sqlalchemy.engine.Engine SELECT usuarios.id AS usuarios_id, usuarios.nombre AS usuarios_nombre, usuarios.email AS usuarios_email \n",
      "FROM usuarios\n",
      "2024-12-13 15:08:47,061 INFO sqlalchemy.engine.Engine [cached since 122.6s ago] ()\n"
     ]
    },
    {
     "data": {
      "text/plain": [
       "[<Usuario(nombre=' luis', email='dannkol@gmail.com')>]"
      ]
     },
     "execution_count": 15,
     "metadata": {},
     "output_type": "execute_result"
    }
   ],
   "source": [
    "obtener_usuarios()"
   ]
  },
  {
   "cell_type": "code",
   "execution_count": 13,
   "metadata": {},
   "outputs": [
    {
     "name": "stdout",
     "output_type": "stream",
     "text": [
      "2024-12-13 13:44:56,278 INFO sqlalchemy.engine.Engine INSERT INTO tareas (titulo, descripcion, fecha_creacion, usuario_id) VALUES (?, ?, ?, ?)\n",
      "2024-12-13 13:44:56,280 INFO sqlalchemy.engine.Engine [generated in 0.00189s] ('Tarea 1', 'Descripcion de la tarea 1', '2024-12-13 18:44:56.278756', 1)\n",
      "2024-12-13 13:44:56,282 INFO sqlalchemy.engine.Engine COMMIT\n"
     ]
    }
   ],
   "source": [
    "task = crear_tarea(usuario_id=user[0].id, titulo='Tarea 1', descripcion='Descripcion de la tarea 1')"
   ]
  },
  {
   "cell_type": "code",
   "execution_count": 14,
   "metadata": {},
   "outputs": [
    {
     "name": "stdout",
     "output_type": "stream",
     "text": [
      "2024-12-13 13:44:56,295 INFO sqlalchemy.engine.Engine BEGIN (implicit)\n",
      "2024-12-13 13:44:56,297 INFO sqlalchemy.engine.Engine SELECT tareas.id AS tareas_id, tareas.titulo AS tareas_titulo, tareas.descripcion AS tareas_descripcion, tareas.fecha_creacion AS tareas_fecha_creacion, tareas.usuario_id AS tareas_usuario_id \n",
      "FROM tareas \n",
      "WHERE tareas.id = ?\n",
      "2024-12-13 13:44:56,299 INFO sqlalchemy.engine.Engine [generated in 0.00132s] (1,)\n"
     ]
    },
    {
     "data": {
      "text/plain": [
       "'Descripcion de la tarea 1'"
      ]
     },
     "execution_count": 14,
     "metadata": {},
     "output_type": "execute_result"
    }
   ],
   "source": [
    "task.descripcion"
   ]
  },
  {
   "cell_type": "code",
   "execution_count": 15,
   "metadata": {},
   "outputs": [
    {
     "name": "stdout",
     "output_type": "stream",
     "text": [
      "2024-12-13 13:44:56,312 INFO sqlalchemy.engine.Engine SELECT usuarios.id AS usuarios_id, usuarios.nombre AS usuarios_nombre, usuarios.email AS usuarios_email \n",
      "FROM usuarios \n",
      "WHERE usuarios.id = ?\n",
      "2024-12-13 13:44:56,314 INFO sqlalchemy.engine.Engine [cached since 0.07503s ago] (1,)\n",
      "2024-12-13 13:44:56,317 INFO sqlalchemy.engine.Engine SELECT tareas.id AS tareas_id, tareas.titulo AS tareas_titulo, tareas.descripcion AS tareas_descripcion, tareas.fecha_creacion AS tareas_fecha_creacion, tareas.usuario_id AS tareas_usuario_id \n",
      "FROM tareas \n",
      "WHERE tareas.usuario_id = ?\n",
      "2024-12-13 13:44:56,318 INFO sqlalchemy.engine.Engine [generated in 0.00153s] (1,)\n"
     ]
    }
   ],
   "source": [
    "get_taks = obtener_tareas_usuario(usuario_id=user[0].id)"
   ]
  },
  {
   "cell_type": "code",
   "execution_count": 23,
   "metadata": {},
   "outputs": [
    {
     "data": {
      "text/plain": [
       "1"
      ]
     },
     "execution_count": 23,
     "metadata": {},
     "output_type": "execute_result"
    }
   ],
   "source": [
    "get_taks[0].id"
   ]
  },
  {
   "cell_type": "code",
   "execution_count": 24,
   "metadata": {},
   "outputs": [
    {
     "name": "stdout",
     "output_type": "stream",
     "text": [
      "2024-12-13 13:48:10,943 INFO sqlalchemy.engine.Engine SELECT tareas.id AS tareas_id, tareas.titulo AS tareas_titulo, tareas.descripcion AS tareas_descripcion, tareas.fecha_creacion AS tareas_fecha_creacion, tareas.usuario_id AS tareas_usuario_id \n",
      "FROM tareas \n",
      "WHERE tareas.id = ?\n",
      " LIMIT ? OFFSET ?\n",
      "2024-12-13 13:48:10,945 INFO sqlalchemy.engine.Engine [generated in 0.00302s] (1, 1, 0)\n",
      "2024-12-13 13:48:10,949 INFO sqlalchemy.engine.Engine DELETE FROM tareas WHERE tareas.id = ?\n",
      "2024-12-13 13:48:10,950 INFO sqlalchemy.engine.Engine [generated in 0.00132s] (1,)\n",
      "2024-12-13 13:48:10,952 INFO sqlalchemy.engine.Engine COMMIT\n"
     ]
    },
    {
     "data": {
      "text/plain": [
       "True"
      ]
     },
     "execution_count": 24,
     "metadata": {},
     "output_type": "execute_result"
    }
   ],
   "source": [
    "eliminar_tarea(tarea_id=get_taks[0].id)"
   ]
  },
  {
   "cell_type": "code",
   "execution_count": 25,
   "metadata": {},
   "outputs": [
    {
     "name": "stdout",
     "output_type": "stream",
     "text": [
      "2024-12-13 13:48:20,475 INFO sqlalchemy.engine.Engine BEGIN (implicit)\n",
      "2024-12-13 13:48:20,477 INFO sqlalchemy.engine.Engine SELECT usuarios.id AS usuarios_id, usuarios.nombre AS usuarios_nombre, usuarios.email AS usuarios_email \n",
      "FROM usuarios \n",
      "WHERE usuarios.id = ?\n",
      "2024-12-13 13:48:20,478 INFO sqlalchemy.engine.Engine [cached since 204.2s ago] (1,)\n",
      "2024-12-13 13:48:20,480 INFO sqlalchemy.engine.Engine SELECT tareas.id AS tareas_id, tareas.titulo AS tareas_titulo, tareas.descripcion AS tareas_descripcion, tareas.fecha_creacion AS tareas_fecha_creacion, tareas.usuario_id AS tareas_usuario_id \n",
      "FROM tareas \n",
      "WHERE tareas.usuario_id = ?\n",
      "2024-12-13 13:48:20,481 INFO sqlalchemy.engine.Engine [cached since 204.2s ago] (1,)\n"
     ]
    },
    {
     "data": {
      "text/plain": [
       "[]"
      ]
     },
     "execution_count": 25,
     "metadata": {},
     "output_type": "execute_result"
    }
   ],
   "source": [
    "obtener_tareas_usuario(usuario_id=user[0].id)"
   ]
  },
  {
   "cell_type": "code",
   "execution_count": 19,
   "metadata": {},
   "outputs": [
    {
     "name": "stdout",
     "output_type": "stream",
     "text": [
      "'password' is an invalid keyword argument for Usuario\n"
     ]
    }
   ],
   "source": [
    "try:\n",
    "    usr1 = Usuario(nombre=\"Danvid\", email=\"david@gmail.com\")\n",
    "    usr2 = Usuario(nombre=\"juan\", email=\"juan@gmail.com\", password=\"123456\")\n",
    "    \n",
    "    session.add(usr1)\n",
    "    session.add(usr2)\n",
    "    session.commit()\n",
    "\n",
    "except Exception as e:\n",
    "    print(e)\n",
    "    session.rollback()"
   ]
  }
 ],
 "metadata": {
  "kernelspec": {
   "display_name": ".venv",
   "language": "python",
   "name": "python3"
  },
  "language_info": {
   "codemirror_mode": {
    "name": "ipython",
    "version": 3
   },
   "file_extension": ".py",
   "mimetype": "text/x-python",
   "name": "python",
   "nbconvert_exporter": "python",
   "pygments_lexer": "ipython3",
   "version": "3.10.12"
  }
 },
 "nbformat": 4,
 "nbformat_minor": 2
}
